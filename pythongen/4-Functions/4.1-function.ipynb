{
 "cells": [
  {
   "cell_type": "markdown",
   "id": "1d040bff",
   "metadata": {},
   "source": [
    "### Functions in Python\n",
    "\n",
    "1. Introduction to Function\n",
    "2. Defining Functions\n",
    "3. Calling Funtion\n",
    "4. Function Parameters\n",
    "5. Default Parameters\n",
    "6. Variable-Length Arguments\n",
    "7. Return Statement\n",
    "\n",
    "### Introduction to \n",
    "\n",
    "Definition :\n",
    " A function is a block of code that perfoprm a specific task. Function help in organizing code, reusing code, and improving redebility ....."
   ]
  },
  {
   "cell_type": "code",
   "execution_count": 1,
   "id": "60bb549e",
   "metadata": {},
   "outputs": [],
   "source": [
    "# syntax\n",
    "def function():\n",
    "    \"\"\"Docstrig\"\"\"\n",
    "    # Function body\n",
    "    return expression"
   ]
  },
  {
   "cell_type": "code",
   "execution_count": 7,
   "id": "9aafb992",
   "metadata": {},
   "outputs": [
    {
     "name": "stdout",
     "output_type": "stream",
     "text": [
      "The number is even\n"
     ]
    }
   ],
   "source": [
    "## Why function \n",
    "num=24\n",
    "if num%2==0:\n",
    "    print(\"The number is even\")\n",
    "else:\n",
    "    print(\"The number is odd\")"
   ]
  },
  {
   "cell_type": "code",
   "execution_count": 8,
   "id": "d59e6efe",
   "metadata": {},
   "outputs": [],
   "source": [
    "def even_or_odd(num):\n",
    "    \"\"\"This function check if a number is even or odd.\"\"\"\n",
    "    if num % 2 == 0:\n",
    "        return \"The number is even\"\n",
    "    else:\n",
    "        return \"The number is odd\""
   ]
  },
  {
   "cell_type": "code",
   "execution_count": 12,
   "id": "9dbde943",
   "metadata": {},
   "outputs": [
    {
     "data": {
      "text/plain": [
       "'The number is even'"
      ]
     },
     "execution_count": 12,
     "metadata": {},
     "output_type": "execute_result"
    }
   ],
   "source": [
    "# Call the function\n",
    "even_or_odd(24)"
   ]
  },
  {
   "cell_type": "code",
   "execution_count": null,
   "id": "70c32d5b",
   "metadata": {},
   "outputs": [],
   "source": []
  }
 ],
 "metadata": {
  "kernelspec": {
   "display_name": "Python 3",
   "language": "python",
   "name": "python3"
  },
  "language_info": {
   "codemirror_mode": {
    "name": "ipython",
    "version": 3
   },
   "file_extension": ".py",
   "mimetype": "text/x-python",
   "name": "python",
   "nbconvert_exporter": "python",
   "pygments_lexer": "ipython3",
   "version": "3.12.0"
  }
 },
 "nbformat": 4,
 "nbformat_minor": 5
}
