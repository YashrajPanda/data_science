{
 "cells": [
  {
   "cell_type": "markdown",
   "id": "f6a342b4",
   "metadata": {},
   "source": [
    "Function Examples\n",
    "\n",
    "Example 1 : Temperature Conversion"
   ]
  },
  {
   "cell_type": "code",
   "execution_count": null,
   "id": "985d7c8d",
   "metadata": {},
   "outputs": [],
   "source": [
    "def convert_"
   ]
  },
  {
   "cell_type": "markdown",
   "id": "0f159996",
   "metadata": {},
   "source": [
    "Example 2 : Password Strength Checker"
   ]
  },
  {
   "cell_type": "markdown",
   "id": "62692d10",
   "metadata": {},
   "source": []
  },
  {
   "cell_type": "markdown",
   "id": "09266474",
   "metadata": {},
   "source": [
    "Example 3 : Calculate the total cost of items in a shopping cart"
   ]
  },
  {
   "cell_type": "markdown",
   "id": "0f30da70",
   "metadata": {},
   "source": []
  },
  {
   "cell_type": "markdown",
   "id": "518a3481",
   "metadata": {},
   "source": [
    "Example 4 : Check if a string Palindrome "
   ]
  },
  {
   "cell_type": "markdown",
   "id": "d8c7ac02",
   "metadata": {},
   "source": []
  },
  {
   "cell_type": "markdown",
   "id": "7cf134d2",
   "metadata": {},
   "source": [
    "Example 5 : Calculation the function of a number using recursion "
   ]
  },
  {
   "cell_type": "markdown",
   "id": "1f6785ce",
   "metadata": {},
   "source": []
  }
 ],
 "metadata": {
  "kernelspec": {
   "display_name": "Python 3",
   "language": "python",
   "name": "python3"
  },
  "language_info": {
   "name": "python",
   "version": "3.12.0"
  }
 },
 "nbformat": 4,
 "nbformat_minor": 5
}
