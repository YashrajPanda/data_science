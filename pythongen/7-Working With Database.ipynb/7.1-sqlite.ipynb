{
 "cells": [
  {
   "cell_type": "code",
   "execution_count": 1,
   "id": "cf41c568",
   "metadata": {},
   "outputs": [],
   "source": [
    "import sqlite3"
   ]
  },
  {
   "cell_type": "code",
   "execution_count": 2,
   "id": "249a4c71",
   "metadata": {},
   "outputs": [
    {
     "data": {
      "text/plain": [
       "<sqlite3.Connection at 0x22c46c26b60>"
      ]
     },
     "execution_count": 2,
     "metadata": {},
     "output_type": "execute_result"
    }
   ],
   "source": [
    "# Connect to an SQLite database\n",
    "Connection=sqlite3.connect('example.db')\n",
    "Connection"
   ]
  },
  {
   "cell_type": "code",
   "execution_count": 3,
   "id": "e9b89b51",
   "metadata": {},
   "outputs": [],
   "source": [
    "# cursor create korchi because eta iterrate korbe table column row te\n",
    "cursor=Connection.cursor()"
   ]
  },
  {
   "cell_type": "code",
   "execution_count": 4,
   "id": "7e4fdb17",
   "metadata": {},
   "outputs": [],
   "source": [
    "# Create a Table\n",
    "cursor.execute('''\n",
    "Create Table If Not Exists Students(\n",
    "    id Integer Primary Key,\n",
    "    nam Text Not Null,\n",
    "    age Integer Not Null,\n",
    "    grade Text Not Null\n",
    "    )\n",
    "''')\n",
    "# Commit the Changes\n",
    "Connection.commit()"
   ]
  },
  {
   "cell_type": "code",
   "execution_count": 5,
   "id": "681eb6e8",
   "metadata": {},
   "outputs": [
    {
     "data": {
      "text/plain": [
       "<sqlite3.Cursor at 0x22c46dcb340>"
      ]
     },
     "execution_count": 5,
     "metadata": {},
     "output_type": "execute_result"
    }
   ],
   "source": [
    "cursor.execute('''\n",
    "Select * from Students''')"
   ]
  },
  {
   "cell_type": "code",
   "execution_count": 14,
   "id": "c256d3f7",
   "metadata": {},
   "outputs": [],
   "source": [
    "# Insert Data in Table\n",
    "cursor.execute('''\n",
    "Insert Into Students(nam,age,grade)\n",
    "values('Yash',20,'A')               \n",
    "''')\n",
    "\n",
    "cursor.execute('''\n",
    "Insert Into Students(nam,age,grade)\n",
    "values('Ritam',21,'A+')               \n",
    "''')\n",
    "\n",
    "cursor.execute('''\n",
    "Insert Into Students(nam,age,grade)\n",
    "values('Sayan',22,'AA')               \n",
    "''')\n",
    "\n",
    "# Commit the Changes\n",
    "Connection.commit()"
   ]
  },
  {
   "cell_type": "code",
   "execution_count": 15,
   "id": "f7509ecf",
   "metadata": {},
   "outputs": [
    {
     "name": "stdout",
     "output_type": "stream",
     "text": [
      "(1, 'Yash', 20, 'A')\n",
      "(2, 'Yash', 20, 'A')\n",
      "(3, 'Ritam', 21, 'A+')\n",
      "(4, 'Sayan', 22, 'AA')\n",
      "(5, 'Yash', 20, 'A')\n",
      "(6, 'Ritam', 21, 'A+')\n",
      "(7, 'Sayan', 22, 'AA')\n",
      "(8, 'Yash', 20, 'A')\n",
      "(9, 'Ritam', 21, 'A+')\n",
      "(10, 'Sayan', 22, 'AA')\n"
     ]
    }
   ],
   "source": [
    "# Query the data from the table\n",
    "cursor.execute('Select * from Students')\n",
    "rows=cursor.fetchall()\n",
    "\n",
    "# Print the quired data\n",
    "for row in rows:\n",
    "    print(row)"
   ]
  },
  {
   "cell_type": "code",
   "execution_count": null,
   "id": "1d123346",
   "metadata": {},
   "outputs": [],
   "source": [
    "# Delete a row from the table\n",
    "cursor.execute('''\n",
    "Delete from Students where id=1,\n",
    "''')\n",
    "# Commit the Changes\n",
    "Connection.commit()"
   ]
  },
  {
   "cell_type": "code",
   "execution_count": 17,
   "id": "01e631a0",
   "metadata": {},
   "outputs": [
    {
     "name": "stdout",
     "output_type": "stream",
     "text": [
      "(2, 'Yash', 20, 'A')\n",
      "(3, 'Ritam', 21, 'A+')\n",
      "(4, 'Sayan', 22, 'AA')\n",
      "(5, 'Yash', 20, 'A')\n",
      "(6, 'Ritam', 21, 'A+')\n",
      "(7, 'Sayan', 22, 'AA')\n",
      "(8, 'Yash', 20, 'A')\n",
      "(9, 'Ritam', 21, 'A+')\n",
      "(10, 'Sayan', 22, 'AA')\n"
     ]
    }
   ],
   "source": [
    "# Query the data from the table\n",
    "cursor.execute('Select * from Students')\n",
    "rows=cursor.fetchall()\n",
    "\n",
    "# Print the quired data\n",
    "for row in rows:\n",
    "    print(row)"
   ]
  },
  {
   "cell_type": "code",
   "execution_count": 19,
   "id": "d79e1e77",
   "metadata": {},
   "outputs": [],
   "source": [
    "# Delete a multiple row from the table\n",
    "cursor.execute('''\n",
    "Delete from Students where id=5\n",
    "''')\n",
    "# Commit the Changes\n",
    "Connection.commit()"
   ]
  },
  {
   "cell_type": "code",
   "execution_count": 24,
   "id": "531cfe4f",
   "metadata": {},
   "outputs": [],
   "source": [
    "# Delete a multiple row from the table\n",
    "cursor.execute(\"\"\"\n",
    "Delete from Students where id IN (6, 7, 8, 9, 10)\n",
    "\"\"\")\n",
    "# Commit the Changes\n",
    "Connection.commit()"
   ]
  },
  {
   "cell_type": "code",
   "execution_count": 25,
   "id": "4b2b97fc",
   "metadata": {},
   "outputs": [
    {
     "name": "stdout",
     "output_type": "stream",
     "text": [
      "(2, 'Yash', 20, 'A')\n",
      "(3, 'Ritam', 21, 'A+')\n",
      "(4, 'Sayan', 22, 'AA')\n"
     ]
    }
   ],
   "source": [
    "# Query the data from the table\n",
    "cursor.execute('Select * from Students')\n",
    "rows=cursor.fetchall()\n",
    "\n",
    "# Print the quired data\n",
    "for row in rows:\n",
    "    print(row)"
   ]
  },
  {
   "cell_type": "code",
   "execution_count": 33,
   "id": "68b2fa61",
   "metadata": {},
   "outputs": [],
   "source": [
    "# Upade a data in the table\n",
    "cursor.execute(\"\"\"\n",
    "UPDATE Students\n",
    "SET age=21, id=1\n",
    "WHERE nam=\"Yash\"\n",
    "\"\"\")\n",
    "\n",
    "Connection.commit()"
   ]
  },
  {
   "cell_type": "code",
   "execution_count": 34,
   "id": "401f0079",
   "metadata": {},
   "outputs": [
    {
     "name": "stdout",
     "output_type": "stream",
     "text": [
      "(1, 'Yash', 21, 'A')\n",
      "(3, 'Ritam', 21, 'A+')\n",
      "(4, 'Sayan', 22, 'AA')\n"
     ]
    }
   ],
   "source": [
    "# Query the data from the table\n",
    "cursor.execute('Select * from Students')\n",
    "rows=cursor.fetchall()\n",
    "\n",
    "# Print the quired data\n",
    "for row in rows:\n",
    "    print(row)"
   ]
  },
  {
   "cell_type": "code",
   "execution_count": null,
   "id": "5de24e47",
   "metadata": {},
   "outputs": [],
   "source": []
  }
 ],
 "metadata": {
  "kernelspec": {
   "display_name": "Python 3",
   "language": "python",
   "name": "python3"
  },
  "language_info": {
   "codemirror_mode": {
    "name": "ipython",
    "version": 3
   },
   "file_extension": ".py",
   "mimetype": "text/x-python",
   "name": "python",
   "nbconvert_exporter": "python",
   "pygments_lexer": "ipython3",
   "version": "3.12.0"
  }
 },
 "nbformat": 4,
 "nbformat_minor": 5
}
