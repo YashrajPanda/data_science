{
 "cells": [
  {
   "cell_type": "markdown",
   "id": "ba1b1eba",
   "metadata": {},
   "source": [
    "Process run in parallel\n",
    "\n",
    "CPU-Bound Tasks-Tasks that are heavy on cpu usage\n"
   ]
  },
  {
   "cell_type": "code",
   "execution_count": 5,
   "id": "a602d9b0",
   "metadata": {},
   "outputs": [
    {
     "name": "stdout",
     "output_type": "stream",
     "text": [
      "0.15399479866027832\n"
     ]
    }
   ],
   "source": [
    "import multiprocessing\n",
    "import time\n",
    "def sqare_number():\n",
    "    for i in range(5):\n",
    "        time.sleep(1)\n",
    "        print(f\"Square : {i*i}\")\n",
    "def cube_numbers():\n",
    "    for i in range(5):\n",
    "        time.sleep(1.5)\n",
    "        print(f\"Cube: {i*i*i}\")\n",
    "        \n",
    "if __name__==\"__main__\":\n",
    "        \n",
    "    # Craete two processes\n",
    "    p1=multiprocessing.Process(target=sqare_number)\n",
    "    p2=multiprocessing.Process(target=cube_numbers)\n",
    "    t=time.time()\n",
    "\n",
    "    # start the process\n",
    "    p1.start()\n",
    "    p2.start()\n",
    "\n",
    "    # wait for the proces to compplete\n",
    "    p1.join()\n",
    "    p2.join()\n",
    "\n",
    "    finished_time=time.time()-t\n",
    "    print(finished_time)"
   ]
  },
  {
   "cell_type": "code",
   "execution_count": null,
   "id": "d8ac4aed",
   "metadata": {},
   "outputs": [],
   "source": []
  }
 ],
 "metadata": {
  "kernelspec": {
   "display_name": "Python 3",
   "language": "python",
   "name": "python3"
  },
  "language_info": {
   "codemirror_mode": {
    "name": "ipython",
    "version": 3
   },
   "file_extension": ".py",
   "mimetype": "text/x-python",
   "name": "python",
   "nbconvert_exporter": "python",
   "pygments_lexer": "ipython3",
   "version": "3.12.0"
  }
 },
 "nbformat": 4,
 "nbformat_minor": 5
}
