{
 "cells": [
  {
   "cell_type": "code",
   "execution_count": 11,
   "id": "ee8aa7fd",
   "metadata": {},
   "outputs": [],
   "source": [
    "from concurrent.futures import ProcessPoolExecutor\n",
    "import time\n",
    "\n",
    "def square_number(number):\n",
    "    time.sleep(1)\n",
    "    return f\"Square: {numbers * numbers}\"\n",
    "\n",
    "numbers=[1,2,3,4,5]\n",
    "\n",
    "if __name__ == \"___main__\":\n",
    "    \n",
    "    with ProcessPoolExecutor(max_workers=3) as executor:\n",
    "        results=executor.map(square_number,numbers)\n",
    "\n",
    "    for result in results:\n",
    "        print(result)"
   ]
  },
  {
   "cell_type": "code",
   "execution_count": null,
   "id": "101c2fbe",
   "metadata": {},
   "outputs": [],
   "source": []
  }
 ],
 "metadata": {
  "kernelspec": {
   "display_name": "Python 3",
   "language": "python",
   "name": "python3"
  },
  "language_info": {
   "codemirror_mode": {
    "name": "ipython",
    "version": 3
   },
   "file_extension": ".py",
   "mimetype": "text/x-python",
   "name": "python",
   "nbconvert_exporter": "python",
   "pygments_lexer": "ipython3",
   "version": "3.12.0"
  }
 },
 "nbformat": 4,
 "nbformat_minor": 5
}
