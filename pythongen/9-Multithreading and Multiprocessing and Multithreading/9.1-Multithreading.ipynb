{
 "cells": [
  {
   "cell_type": "markdown",
   "id": "53c37d05",
   "metadata": {},
   "source": [
    "Multithreading \n",
    "When to use Multi Threading\n",
    "I/O-bound tasks: Tasks are spend more time waiting for I/O operations(e.g- file operation)\n",
    "Concurrent execution : When you want to improve the throuput\n",
    "by performing multiple operations concurrently."
   ]
  },
  {
   "cell_type": "code",
   "execution_count": 4,
   "id": "fdafe5d9",
   "metadata": {},
   "outputs": [
    {
     "name": "stdout",
     "output_type": "stream",
     "text": [
      "Number:0\n",
      "Number:1\n",
      "Number:2\n",
      "Number:3\n",
      "Number:4\n",
      "Letter: a\n",
      "Letter: b\n",
      "Letter: c\n",
      "Letter: d\n",
      "18.009323358535767\n"
     ]
    }
   ],
   "source": [
    "import threading\n",
    "import time\n",
    "\n",
    "def print_numbers():\n",
    "    for i in range(5):\n",
    "        time.sleep(2)\n",
    "        print(f\"Number:{i}\")\n",
    "def print_letter():\n",
    "    for letter in \"abcd\":\n",
    "        time.sleep(2)\n",
    "        print(f\"Letter: {letter}\")\n",
    "        \n",
    "t=time.time()\n",
    "print_numbers()\n",
    "print_letter()\n",
    "finished_time=time.time()-t\n",
    "print(finished_time)"
   ]
  },
  {
   "cell_type": "code",
   "execution_count": null,
   "id": "f0f26c54",
   "metadata": {},
   "outputs": [
    {
     "name": "stdout",
     "output_type": "stream",
     "text": [
      "Number:0\n",
      "Letter: a\n",
      "Number:1Letter: b\n",
      "\n",
      "Letter: c\n",
      "Number:2\n",
      "Number:3Letter: d\n",
      "\n",
      "Number:4\n",
      "10.018253087997437\n"
     ]
    }
   ],
   "source": [
    "import threading\n",
    "import time\n",
    "\n",
    "def print_numbers():\n",
    "    for i in range(5):\n",
    "        time.sleep(2)\n",
    "        print(f\"Number:{i}\")\n",
    "def print_letter():\n",
    "    for letter in \"abcd\":\n",
    "        time.sleep(2)\n",
    "        print(f\"Letter: {letter}\")\n",
    "        \n",
    "# Create two threads\n",
    "t1=threading.Thread(target=print_numbers)\n",
    "t2=threading.Thread(target=print_letter)\n",
    "        \n",
    "t=time.time()\n",
    "# Start the Thread\n",
    "t1.start()\n",
    "t2.start()\n",
    "\n",
    "# wait for the threds to compleate\n",
    "t1.join()\n",
    "t2.join()\n",
    "finished_time=time.time()-t\n",
    "print(finished_time)"
   ]
  },
  {
   "cell_type": "code",
   "execution_count": null,
   "id": "2f742e60",
   "metadata": {},
   "outputs": [],
   "source": []
  }
 ],
 "metadata": {
  "kernelspec": {
   "display_name": "Python 3",
   "language": "python",
   "name": "python3"
  },
  "language_info": {
   "codemirror_mode": {
    "name": "ipython",
    "version": 3
   },
   "file_extension": ".py",
   "mimetype": "text/x-python",
   "name": "python",
   "nbconvert_exporter": "python",
   "pygments_lexer": "ipython3",
   "version": "3.12.0"
  }
 },
 "nbformat": 4,
 "nbformat_minor": 5
}
