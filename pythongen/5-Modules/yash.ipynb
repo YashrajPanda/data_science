{
 "cells": [
  {
   "cell_type": "code",
   "execution_count": 1,
   "id": "389fbc3a",
   "metadata": {},
   "outputs": [
    {
     "data": {
      "text/plain": [
       "5"
      ]
     },
     "execution_count": 1,
     "metadata": {},
     "output_type": "execute_result"
    }
   ],
   "source": [
    "from package.math import Addition\n",
    "Addition(2,3)"
   ]
  },
  {
   "cell_type": "code",
   "execution_count": 10,
   "id": "9cc9a645",
   "metadata": {},
   "outputs": [
    {
     "data": {
      "text/plain": [
       "5"
      ]
     },
     "execution_count": 10,
     "metadata": {},
     "output_type": "execute_result"
    }
   ],
   "source": [
    "from package import add\n",
    "add.Addition(2, 3)  # Returns 5"
   ]
  },
  {
   "cell_type": "code",
   "execution_count": 19,
   "id": "30311500",
   "metadata": {},
   "outputs": [
    {
     "name": "stdout",
     "output_type": "stream",
     "text": [
      "5\n"
     ]
    },
    {
     "ename": "NameError",
     "evalue": "name 'Subtraction' is not defined",
     "output_type": "error",
     "traceback": [
      "\u001b[31m---------------------------------------------------------------------------\u001b[39m",
      "\u001b[31mNameError\u001b[39m                                 Traceback (most recent call last)",
      "\u001b[36mCell\u001b[39m\u001b[36m \u001b[39m\u001b[32mIn[19]\u001b[39m\u001b[32m, line 3\u001b[39m\n\u001b[32m      1\u001b[39m \u001b[38;5;28;01mfrom\u001b[39;00m\u001b[38;5;250m \u001b[39m\u001b[34;01mpackage\u001b[39;00m\u001b[34;01m.\u001b[39;00m\u001b[34;01mmath\u001b[39;00m\u001b[38;5;250m \u001b[39m\u001b[38;5;28;01mimport\u001b[39;00m  *\n\u001b[32m      2\u001b[39m \u001b[38;5;28mprint\u001b[39m(Addition(\u001b[32m2\u001b[39m, \u001b[32m3\u001b[39m))  \u001b[38;5;66;03m# Returns 5\u001b[39;00m\n\u001b[32m----> \u001b[39m\u001b[32m3\u001b[39m \u001b[38;5;28mprint\u001b[39m(\u001b[43mSubtraction\u001b[49m(\u001b[32m5\u001b[39m, \u001b[32m3\u001b[39m))  \u001b[38;5;66;03m# Returns 2\u001b[39;00m\n",
      "\u001b[31mNameError\u001b[39m: name 'Subtraction' is not defined"
     ]
    }
   ],
   "source": [
    "from package.math import  *\n",
    "print(Addition(2, 3))  # Returns 5\n",
    "print(Subtraction(5, 3))  # Returns 2"
   ]
  },
  {
   "cell_type": "code",
   "execution_count": 1,
   "id": "6e6f4d18",
   "metadata": {},
   "outputs": [
    {
     "ename": "ModuleNotFoundError",
     "evalue": "No module named 'matplotlib'",
     "output_type": "error",
     "traceback": [
      "\u001b[31m---------------------------------------------------------------------------\u001b[39m",
      "\u001b[31mModuleNotFoundError\u001b[39m                       Traceback (most recent call last)",
      "\u001b[36mCell\u001b[39m\u001b[36m \u001b[39m\u001b[32mIn[1]\u001b[39m\u001b[32m, line 1\u001b[39m\n\u001b[32m----> \u001b[39m\u001b[32m1\u001b[39m \u001b[38;5;28;01mimport\u001b[39;00m\u001b[38;5;250m \u001b[39m\u001b[34;01mmatplotlib\u001b[39;00m\u001b[34;01m.\u001b[39;00m\u001b[34;01mpyplot\u001b[39;00m\u001b[38;5;250m \u001b[39m\u001b[38;5;28;01mas\u001b[39;00m\u001b[38;5;250m \u001b[39m\u001b[34;01mplt\u001b[39;00m\n\u001b[32m      3\u001b[39m \u001b[38;5;66;03m# Coordinates (x, y) for visualization\u001b[39;00m\n\u001b[32m      4\u001b[39m ship = (\u001b[32m0\u001b[39m, \u001b[32m0\u001b[39m)\n",
      "\u001b[31mModuleNotFoundError\u001b[39m: No module named 'matplotlib'"
     ]
    }
   ],
   "source": [
    "import matplotlib.pyplot as plt\n",
    "\n",
    "# Coordinates (x, y) for visualization\n",
    "ship = (0, 0)\n",
    "satellite = (10, 15)\n",
    "ground_station = (20, 0)\n",
    "\n",
    "# Plot points\n",
    "plt.figure(figsize=(10, 6))\n",
    "plt.scatter(*ship, color='blue', s=100, label='Ship')\n",
    "plt.scatter(*satellite, color='orange', s=100, label='Satellite')\n",
    "plt.scatter(*ground_station, color='green', s=100, label='Ground Station')\n",
    "\n",
    "# Draw communication lines\n",
    "plt.plot([ship[0], satellite[0]], [ship[1], satellite[1]], 'r--', label='Uplink (Ship → Satellite)')\n",
    "plt.plot([satellite[0], ground_station[0]], [satellite[1], ground_station[1]], 'g--', label='Downlink (Satellite → Ground Station)')\n",
    "plt.plot([ground_station[0], satellite[0]], [ground_station[1], satellite[1]], 'b--', label='Uplink (Ground → Satellite)')\n",
    "plt.plot([satellite[0], ship[0]], [satellite[1], ship[1]], 'purple', linestyle='dotted', label='Downlink (Satellite → Ship)')\n",
    "\n",
    "# Labels\n",
    "plt.text(ship[0]-1, ship[1]-1, '🚢 Ship', fontsize=12)\n",
    "plt.text(satellite[0]-1, satellite[1]+1, '🛰️ Satellite', fontsize=12)\n",
    "plt.text(ground_station[0]+0.5, ground_station[1]-1, '🏢 Ground Station', fontsize=12)\n",
    "\n",
    "# Chart settings\n",
    "plt.title(\"Ship-to-Satellite Communication Visualization\")\n",
    "plt.xlabel(\"X-axis (km or units)\")\n",
    "plt.ylabel(\"Y-axis (altitude/position)\")\n",
    "plt.grid(True)\n",
    "plt.legend()\n",
    "plt.axis('equal')\n",
    "plt.show()\n"
   ]
  },
  {
   "cell_type": "code",
   "execution_count": null,
   "id": "f4ac518d",
   "metadata": {},
   "outputs": [],
   "source": []
  }
 ],
 "metadata": {
  "kernelspec": {
   "display_name": "Python 3",
   "language": "python",
   "name": "python3"
  },
  "language_info": {
   "codemirror_mode": {
    "name": "ipython",
    "version": 3
   },
   "file_extension": ".py",
   "mimetype": "text/x-python",
   "name": "python",
   "nbconvert_exporter": "python",
   "pygments_lexer": "ipython3",
   "version": "3.12.0"
  }
 },
 "nbformat": 4,
 "nbformat_minor": 5
}
