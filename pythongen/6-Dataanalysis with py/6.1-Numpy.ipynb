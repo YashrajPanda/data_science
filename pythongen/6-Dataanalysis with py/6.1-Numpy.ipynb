{
 "cells": [
  {
   "cell_type": "markdown",
   "id": "3c9ffe31",
   "metadata": {},
   "source": [
    "### Numpy\n",
    "Numpy is a fundamrntal library for scientific computing in pyhton. It provides support for arrays and matrices, along with a mathematical functions to operate on these data structure. \n",
    "Basics of Numpy, arrays and vectorized operations...."
   ]
  },
  {
   "cell_type": "code",
   "execution_count": 4,
   "id": "9872343e",
   "metadata": {},
   "outputs": [
    {
     "name": "stdout",
     "output_type": "stream",
     "text": [
      "[1 2 3 4 5]\n",
      "<class 'numpy.ndarray'>\n",
      "(5,)\n"
     ]
    }
   ],
   "source": [
    "# creating a 1D array with numpy\n",
    "import numpy as np\n",
    "arr1 = np.array([1, 2, 3, 4, 5])\n",
    "print(arr1)\n",
    "print(type(arr1))\n",
    "print(arr1.shape)"
   ]
  },
  {
   "cell_type": "code",
   "execution_count": 6,
   "id": "fcd1546d",
   "metadata": {},
   "outputs": [
    {
     "data": {
      "text/plain": [
       "array([[1, 2, 3, 4, 5]])"
      ]
     },
     "execution_count": 6,
     "metadata": {},
     "output_type": "execute_result"
    }
   ],
   "source": [
    "arr2 = np.array([1, 2, 3, 4, 5])\n",
    "arr2.reshape(1,5) # reshaping the array to 1 row and 5 columns\n"
   ]
  },
  {
   "cell_type": "code",
   "execution_count": 10,
   "id": "3292acef",
   "metadata": {},
   "outputs": [
    {
     "name": "stdout",
     "output_type": "stream",
     "text": [
      "[[1 2 3 4 5]\n",
      " [9 8 7 6 5]]\n"
     ]
    },
    {
     "data": {
      "text/plain": [
       "(2, 5)"
      ]
     },
     "execution_count": 10,
     "metadata": {},
     "output_type": "execute_result"
    }
   ],
   "source": [
    "arr2=np.array([[1, 2, 3, 4, 5], [9, 8 ,7, 6, 5]]) # creating a 2D array\n",
    "print(arr2)\n",
    "arr2.shape"
   ]
  },
  {
   "cell_type": "code",
   "execution_count": 12,
   "id": "ad14e901",
   "metadata": {},
   "outputs": [
    {
     "data": {
      "text/plain": [
       "array([[0],\n",
       "       [2],\n",
       "       [4],\n",
       "       [6],\n",
       "       [8]])"
      ]
     },
     "execution_count": 12,
     "metadata": {},
     "output_type": "execute_result"
    }
   ],
   "source": [
    "np.arange(0,10,2).reshape(5,1) # creating an array with values from 0 to 10 with a step of 2 and reshaping it to 5 rows and 1 column"
   ]
  },
  {
   "cell_type": "code",
   "execution_count": 14,
   "id": "041f23ce",
   "metadata": {},
   "outputs": [
    {
     "data": {
      "text/plain": [
       "array([[1., 1., 1., 1.],\n",
       "       [1., 1., 1., 1.],\n",
       "       [1., 1., 1., 1.]])"
      ]
     },
     "execution_count": 14,
     "metadata": {},
     "output_type": "execute_result"
    }
   ],
   "source": [
    "np.ones((3,4)) # creating a 3x4 array filled with ones\n"
   ]
  },
  {
   "cell_type": "code",
   "execution_count": 15,
   "id": "5db14b0c",
   "metadata": {},
   "outputs": [
    {
     "data": {
      "text/plain": [
       "array([[1., 0., 0.],\n",
       "       [0., 1., 0.],\n",
       "       [0., 0., 1.]])"
      ]
     },
     "execution_count": 15,
     "metadata": {},
     "output_type": "execute_result"
    }
   ],
   "source": [
    "# Identity matrix\n",
    "np.eye(3) # creating a 3x3 identity matrix"
   ]
  },
  {
   "cell_type": "code",
   "execution_count": null,
   "id": "48faba42",
   "metadata": {},
   "outputs": [
    {
     "name": "stdout",
     "output_type": "stream",
     "text": [
      "Array:\n",
      " [[1 2 3]\n",
      " [4 5 6]]\n",
      "Shape:  (2, 3)\n",
      "Number of dimentions:  2\n",
      "size (number of elemenets):  6\n",
      "Data type: int64\n",
      "Item size (in bytes):  8\n"
     ]
    }
   ],
   "source": [
    "# Attributes of mnumpy\n",
    "arr = np.array([[1, 2, 3], [4, 5, 6]])\n",
    "print(\"Array:\\n\", arr)\n",
    "print(\"Shape: \", arr.shape)\n",
    "print(\"Number of dimentions: \", arr.ndim)\n",
    "print(\"size (number of elemenets): \", arr.size)\n",
    "print(\"Data type:\", arr.dtype)\n",
    "print(\"Item size (in bytes): \", arr.itemsize)"
   ]
  },
  {
   "cell_type": "code",
   "execution_count": 17,
   "id": "cd36a845",
   "metadata": {},
   "outputs": [
    {
     "name": "stdout",
     "output_type": "stream",
     "text": [
      "Addition :  [ 7  9 11 13 15]\n",
      "Subtraction :  [-5 -5 -5 -5 -5]\n",
      "Multiplication :  [ 6 14 24 36 50]\n",
      "Division :  [0.16666667 0.28571429 0.375      0.44444444 0.5       ]\n"
     ]
    }
   ],
   "source": [
    "# NUmpy vectorize operation\n",
    "arr1 = np.array([1, 2, 3, 4, 5])\n",
    "arr2 = np.array([6, 7, 8, 9, 10])\n",
    "\n",
    "# Element wise addition\n",
    "print(\"Addition : \", arr1 + arr2)\n",
    "\n",
    "# Element wise subtraction\n",
    "print(\"Subtraction : \", arr1 - arr2)\n",
    "\n",
    "# Element wise multiplication\n",
    "print(\"Multiplication : \", arr1 * arr2)\n",
    "\n",
    "# Element wise division\n",
    "print(\"Division : \", arr1 / arr2)"
   ]
  },
  {
   "cell_type": "code",
   "execution_count": 18,
   "id": "13dd966e",
   "metadata": {},
   "outputs": [
    {
     "name": "stdout",
     "output_type": "stream",
     "text": [
      "<ufunc 'sqrt'>\n",
      "[  2.71828183   7.3890561   20.08553692  54.59815003 148.4131591 ]\n",
      "[ 0.84147098  0.90929743  0.14112001 -0.7568025  -0.95892427]\n",
      "[0.         0.69314718 1.09861229 1.38629436 1.60943791]\n"
     ]
    }
   ],
   "source": [
    "# Universal functions\n",
    "arr = np.array([1, 2, 3, 4, 5])\n",
    "# Square root of each element\n",
    "print(np.sqrt)\n",
    "\n",
    "# Exponential\n",
    "print(np.exp(arr))\n",
    "\n",
    "# sine\n",
    "print(np.sin(arr))\n",
    "\n",
    "# logarithm\n",
    "print(np.log(arr))"
   ]
  },
  {
   "cell_type": "code",
   "execution_count": 19,
   "id": "078552cf",
   "metadata": {},
   "outputs": [
    {
     "name": "stdout",
     "output_type": "stream",
     "text": [
      "Aarray: \n",
      " [[1 2 3]\n",
      " [4 5 6]\n",
      " [7 8 9]]\n"
     ]
    }
   ],
   "source": [
    "# array slicing and indexing\n",
    "arr = np.array([[1, 2, 3], [4, 5, 6], [7, 8, 9]])\n",
    "print(\"Aarray: \\n\", arr)"
   ]
  },
  {
   "cell_type": "code",
   "execution_count": 20,
   "id": "53095e98",
   "metadata": {},
   "outputs": [
    {
     "data": {
      "text/plain": [
       "np.int64(2)"
      ]
     },
     "execution_count": 20,
     "metadata": {},
     "output_type": "execute_result"
    }
   ],
   "source": [
    "arr[0, 1]  # Accessing the element at row 0, column 1"
   ]
  },
  {
   "cell_type": "code",
   "execution_count": 26,
   "id": "d0a8a93f",
   "metadata": {},
   "outputs": [
    {
     "data": {
      "text/plain": [
       "array([[5, 6],\n",
       "       [8, 9]])"
      ]
     },
     "execution_count": 26,
     "metadata": {},
     "output_type": "execute_result"
    }
   ],
   "source": [
    "arr[1:,1:]"
   ]
  },
  {
   "cell_type": "code",
   "execution_count": 30,
   "id": "51050f28",
   "metadata": {},
   "outputs": [
    {
     "data": {
      "text/plain": [
       "array([[6],\n",
       "       [9]])"
      ]
     },
     "execution_count": 30,
     "metadata": {},
     "output_type": "execute_result"
    }
   ],
   "source": [
    "arr[1:,2:]"
   ]
  },
  {
   "cell_type": "code",
   "execution_count": 5,
   "id": "84b0db06",
   "metadata": {},
   "outputs": [
    {
     "name": "stdout",
     "output_type": "stream",
     "text": [
      "[[ 1  2  3  4]\n",
      " [ 5  6  7  8]\n",
      " [ 9 10 11 12]]\n"
     ]
    }
   ],
   "source": [
    "arr1 = np.array([[1, 2, 3, 4], [5, 6, 7, 8], [9, 10, 11, 12]])\n",
    "print(arr1)"
   ]
  },
  {
   "cell_type": "code",
   "execution_count": 9,
   "id": "1e4ec44f",
   "metadata": {},
   "outputs": [
    {
     "data": {
      "text/plain": [
       "array([[ 7,  8],\n",
       "       [11, 12]])"
      ]
     },
     "execution_count": 9,
     "metadata": {},
     "output_type": "execute_result"
    }
   ],
   "source": [
    "arr1[1:,2:]"
   ]
  },
  {
   "cell_type": "code",
   "execution_count": 10,
   "id": "248123c9",
   "metadata": {},
   "outputs": [
    {
     "data": {
      "text/plain": [
       "array([[5, 6, 7, 8]])"
      ]
     },
     "execution_count": 10,
     "metadata": {},
     "output_type": "execute_result"
    }
   ],
   "source": [
    "arr1[1:2:3]"
   ]
  },
  {
   "cell_type": "code",
   "execution_count": 12,
   "id": "5fa15940",
   "metadata": {},
   "outputs": [
    {
     "name": "stdout",
     "output_type": "stream",
     "text": [
      "1\n",
      "[[2 3 4]\n",
      " [6 7 8]]\n"
     ]
    }
   ],
   "source": [
    "print(arr1[0][0])\n",
    "print(arr1[0:2,1:])"
   ]
  },
  {
   "cell_type": "code",
   "execution_count": 14,
   "id": "2c5392a2",
   "metadata": {},
   "outputs": [
    {
     "name": "stdout",
     "output_type": "stream",
     "text": [
      "[[ 6  7]\n",
      " [10 11]]\n"
     ]
    }
   ],
   "source": [
    "print(arr1[1:,1:3])"
   ]
  },
  {
   "cell_type": "code",
   "execution_count": 17,
   "id": "fb10ceed",
   "metadata": {},
   "outputs": [
    {
     "name": "stdout",
     "output_type": "stream",
     "text": [
      "[[100   2   3   4]\n",
      " [  5   6   7   8]\n",
      " [  9  10  11  12]]\n"
     ]
    }
   ],
   "source": [
    "# Modify array elements\n",
    "arr1[0,0] = 100\n",
    "print(arr1)"
   ]
  },
  {
   "cell_type": "code",
   "execution_count": 18,
   "id": "b20db09b",
   "metadata": {},
   "outputs": [
    {
     "name": "stdout",
     "output_type": "stream",
     "text": [
      "[[100   2   3   4]\n",
      " [100 100 100 100]\n",
      " [100 100 100 100]]\n"
     ]
    }
   ],
   "source": [
    "arr1[1:] = 100\n",
    "print(arr1)"
   ]
  },
  {
   "cell_type": "code",
   "execution_count": 19,
   "id": "07cda01e",
   "metadata": {},
   "outputs": [
    {
     "name": "stdout",
     "output_type": "stream",
     "text": [
      "Normalized data :  [-1.41421356 -0.70710678  0.          0.70710678  1.41421356]\n"
     ]
    }
   ],
   "source": [
    "# Statistical concepts nof normalization\n",
    "# to have a mean of 0 and standard deviation of 1\n",
    "data = np.array([1, 2, 3, 4, 5])\n",
    "\n",
    "# Calculate the mean and standard deviation\n",
    "mean = np.mean(data)\n",
    "std_dev = np.std(data)\n",
    "\n",
    "# Normalize the data\n",
    "normalized_data = (data - mean) / std_dev\n",
    "print(\"Normalized data : \", normalized_data)\n",
    "\n"
   ]
  },
  {
   "cell_type": "code",
   "execution_count": 20,
   "id": "487e7db1",
   "metadata": {},
   "outputs": [
    {
     "name": "stdout",
     "output_type": "stream",
     "text": [
      "Mean :  5.5\n",
      "Median :  5.5\n",
      "Standard Deviation :  2.8722813232690143\n",
      "Varience :  8.25\n"
     ]
    }
   ],
   "source": [
    "data = np.array([1, 2, 3, 4, 5, 6, 7, 8 , 9, 10])\n",
    "\n",
    "# Mean\n",
    "mean = np.mean(data)\n",
    "print(\"Mean : \", mean)\n",
    "\n",
    "# Median\n",
    "median = np.median(data)\n",
    "print(\"Median : \", median)\n",
    "\n",
    "# Standard deviation\n",
    "std_dev = np.std(data)\n",
    "print(\"Standard Deviation : \",std_dev)\n",
    "\n",
    "# Varience\n",
    "varience = np.var(data)\n",
    "print(\"Varience : \", varience)"
   ]
  },
  {
   "cell_type": "code",
   "execution_count": 23,
   "id": "da84e7d8",
   "metadata": {},
   "outputs": [
    {
     "data": {
      "text/plain": [
       "array([ 6,  7,  8,  9, 10])"
      ]
     },
     "execution_count": 23,
     "metadata": {},
     "output_type": "execute_result"
    }
   ],
   "source": [
    "# Logical Operation\n",
    "data = np.array([1, 2, 3, 4 ,5, 6, 7, 8, 9, 10])\n",
    "data[data>5]"
   ]
  },
  {
   "cell_type": "code",
   "execution_count": 24,
   "id": "59e7a8a2",
   "metadata": {},
   "outputs": [
    {
     "data": {
      "text/plain": [
       "array([5, 6, 7, 8])"
      ]
     },
     "execution_count": 24,
     "metadata": {},
     "output_type": "execute_result"
    }
   ],
   "source": [
    "data[(data>=5) & (data<=8)]"
   ]
  },
  {
   "cell_type": "code",
   "execution_count": null,
   "id": "696c797b",
   "metadata": {},
   "outputs": [],
   "source": []
  }
 ],
 "metadata": {
  "kernelspec": {
   "display_name": "Python 3",
   "language": "python",
   "name": "python3"
  },
  "language_info": {
   "codemirror_mode": {
    "name": "ipython",
    "version": 3
   },
   "file_extension": ".py",
   "mimetype": "text/x-python",
   "name": "python",
   "nbconvert_exporter": "python",
   "pygments_lexer": "ipython3",
   "version": "3.12.0"
  }
 },
 "nbformat": 4,
 "nbformat_minor": 5
}
