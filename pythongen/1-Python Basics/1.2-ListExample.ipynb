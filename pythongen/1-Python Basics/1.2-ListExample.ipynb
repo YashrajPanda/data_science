{
 "cells": [
  {
   "cell_type": "markdown",
   "id": "b7c22fd7",
   "metadata": {},
   "source": [
    " Real World Example using lists in python"
   ]
  },
  {
   "cell_type": "markdown",
   "id": "a56c5ef5",
   "metadata": {},
   "source": [
    "Example 1 - Manage a To Do list"
   ]
  },
  {
   "cell_type": "code",
   "execution_count": 5,
   "id": "6518e1f3",
   "metadata": {},
   "outputs": [
    {
     "name": "stdout",
     "output_type": "stream",
     "text": [
      "Do not forgot to clean the house!\n",
      "TO DO List Remaining:\n",
      "-Clean house\n",
      "-pay bills\n",
      "-Read book\n"
     ]
    }
   ],
   "source": [
    "to_do_list = [\"Buy pen\",\"Clean house\",\"pay bills\"]\n",
    "\n",
    "# Adding to task\n",
    "to_do_list.append(\"Read book\")\n",
    "\n",
    "#Removing a completed task\n",
    "to_do_list.remove(\"Buy pen\")\n",
    "\n",
    "# Checking if a task is in the list\n",
    "if \"Clean house\" in to_do_list:\n",
    "    print(\"Do not forgot to clean the house!\")\n",
    "\n",
    "print(\"TO DO List Remaining:\") \n",
    "for task in to_do_list:\n",
    "    print(f\"-{task}\")  "
   ]
  },
  {
   "cell_type": "markdown",
   "id": "397ad3d7",
   "metadata": {},
   "source": [
    "Example 2 - Calculating average grades for students"
   ]
  },
  {
   "cell_type": "code",
   "execution_count": 8,
   "id": "8d142746",
   "metadata": {},
   "outputs": [
    {
     "name": "stdout",
     "output_type": "stream",
     "text": [
      "Average grade: 88.00\n",
      "Highest grade : 95\n",
      "Lowest grade : 78\n"
     ]
    }
   ],
   "source": [
    "# Organizing student grades\n",
    "grades = [85, 90, 78, 92, 88]\n",
    "\n",
    "# Adding a new grade\n",
    "grades.append(95)\n",
    "\n",
    "# Calculating the avarage grade\n",
    "average_grade = sum(grades) / len(grades)\n",
    "print(f\"Average grade: {average_grade:.2f}\")\n",
    "\n",
    "# Finding the highest and lowest grades\n",
    "highest_grade = max(grades)\n",
    "lowest_grade = min(grades)\n",
    "print(f\"Highest grade : {highest_grade}\")\n",
    "print(f\"Lowest grade : {lowest_grade}\")"
   ]
  },
  {
   "cell_type": "markdown",
   "id": "89159bfe",
   "metadata": {},
   "source": [
    "Use a list to manage inventory items in a store"
   ]
  },
  {
   "cell_type": "code",
   "execution_count": 9,
   "id": "c8198ea0",
   "metadata": {},
   "outputs": [
    {
     "name": "stdout",
     "output_type": "stream",
     "text": [
      "Oranges is available in the inventory.\n",
      "Current Inventory:\n",
      "- Apples\n",
      "- Oranges\n",
      "- Grapes\n",
      "- Mangoes\n"
     ]
    }
   ],
   "source": [
    "# Inventory Items\n",
    "inventory_items = [\"Apples\", \"Bananas\", \"Oranges\", \"Grapes\"]\n",
    "\n",
    "# Adding a new item\n",
    "inventory_items.append(\"Mangoes\")\n",
    "\n",
    "# Removing an item\n",
    "inventory_items.remove(\"Bananas\")\n",
    "\n",
    "# Ckeck if an item is in the inventory\n",
    "item = \"Oranges\"\n",
    "if item in inventory_items:\n",
    "    print(f\"{item} is available in the inventory.\")\n",
    "else:\n",
    "    print(f\"{item} is not available in the inventory.\")\n",
    "\n",
    "# print the inventory\n",
    "print(\"Current Inventory:\")\n",
    "for item in inventory_items:\n",
    "    print(f\"- {item}\")\n"
   ]
  },
  {
   "cell_type": "markdown",
   "id": "1581cb89",
   "metadata": {},
   "source": [
    "Example 3 - Collecting User feedback "
   ]
  },
  {
   "cell_type": "code",
   "execution_count": 10,
   "id": "09b5a250",
   "metadata": {},
   "outputs": [
    {
     "name": "stdout",
     "output_type": "stream",
     "text": [
      "Number of positive feedbacks: 3\n",
      "User feedbacks:\n",
      "-Great service!\n",
      "-Very satisfied\n",
      "-Could be better\n",
      "-Loved the product!\n",
      "-Excellent quality!\n"
     ]
    }
   ],
   "source": [
    "# Feedbacks\n",
    "feedback = [\"Great service!\", \"Very satisfied\", \"Could be better\", \"Loved the product!\"]\n",
    "\n",
    "# Adding a new feedback\n",
    "feedback.append(\"Excellent quality!\")\n",
    "\n",
    "#Counting Specific Feedback\n",
    "positive_feedback_count = sum(1 for command in feedback if \"Great\" in command.lower() or \"loved\" in command.lower() or \"excellent\" in command.lower() or \"better\" in command.lower())\n",
    "print(f\"Number of positive feedbacks: {positive_feedback_count}\")\n",
    "\n",
    "#Printing all the feedbacks\n",
    "print(\"User feedbacks:\")\n",
    "for command in feedback:\n",
    "    print(f\"-{command}\")"
   ]
  },
  {
   "cell_type": "code",
   "execution_count": null,
   "id": "a6867028",
   "metadata": {},
   "outputs": [],
   "source": []
  }
 ],
 "metadata": {
  "kernelspec": {
   "display_name": "Python 3",
   "language": "python",
   "name": "python3"
  },
  "language_info": {
   "codemirror_mode": {
    "name": "ipython",
    "version": 3
   },
   "file_extension": ".py",
   "mimetype": "text/x-python",
   "name": "python",
   "nbconvert_exporter": "python",
   "pygments_lexer": "ipython3",
   "version": "3.12.0"
  }
 },
 "nbformat": 4,
 "nbformat_minor": 5
}
