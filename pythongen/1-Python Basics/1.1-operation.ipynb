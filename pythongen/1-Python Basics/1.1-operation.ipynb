{
 "cells": [
  {
   "cell_type": "code",
   "execution_count": 1,
   "id": "e35ab43e",
   "metadata": {},
   "outputs": [
    {
     "name": "stdout",
     "output_type": "stream",
     "text": [
      "15\n",
      "5\n",
      "50\n",
      "2.0\n",
      "0\n",
      "100000\n"
     ]
    }
   ],
   "source": [
    "a = 10\n",
    "b = 5\n",
    "add_result =a+b\n",
    "sub_result = a-b\n",
    "mult_result = a*b\n",
    "div_result = a/b\n",
    "modulus_result = a%b\n",
    "\n",
    "exponent_result = a**b\n",
    "\n",
    "print(add_result)\n",
    "print(sub_result)\n",
    "print(mult_result)\n",
    "print(div_result)\n",
    "print(modulus_result)\n",
    "print(exponent_result)"
   ]
  },
  {
   "cell_type": "markdown",
   "id": "deb9da9e",
   "metadata": {},
   "source": [
    "### Logical Operator"
   ]
  },
  {
   "cell_type": "code",
   "execution_count": 8,
   "id": "324ca0e4",
   "metadata": {},
   "outputs": [
    {
     "name": "stdout",
     "output_type": "stream",
     "text": [
      "False\n"
     ]
    }
   ],
   "source": [
    "x = False\n",
    "y = False\n",
    "\n",
    "result = x or y\n",
    "print(result)"
   ]
  },
  {
   "cell_type": "markdown",
   "id": "2f632e1b",
   "metadata": {},
   "source": [
    "### List"
   ]
  },
  {
   "cell_type": "code",
   "execution_count": 2,
   "id": "c9af1f29",
   "metadata": {},
   "outputs": [
    {
     "name": "stdout",
     "output_type": "stream",
     "text": [
      "['Alice', 'Bob', 'Charlie']\n"
     ]
    }
   ],
   "source": [
    "names = [\"Alice\", \"Bob\", \"Charlie\"]\n",
    "print(names)"
   ]
  },
  {
   "cell_type": "code",
   "execution_count": 4,
   "id": "be5cb1c5",
   "metadata": {},
   "outputs": [
    {
     "name": "stdout",
     "output_type": "stream",
     "text": [
      "Alice\n",
      "Charlie\n"
     ]
    }
   ],
   "source": [
    "print(names[0])\n",
    "print(names[-1])"
   ]
  },
  {
   "cell_type": "code",
   "execution_count": 7,
   "id": "8c1e577f",
   "metadata": {},
   "outputs": [
    {
     "name": "stdout",
     "output_type": "stream",
     "text": [
      "['Bob', 'Charlie']\n",
      "['Alice', 'Bob', 'Charlie']\n"
     ]
    }
   ],
   "source": [
    "print(names[1:])\n",
    "print(names[0:3])"
   ]
  },
  {
   "cell_type": "markdown",
   "id": "8cdbdcc4",
   "metadata": {},
   "source": [
    "## Touples"
   ]
  },
  {
   "cell_type": "code",
   "execution_count": 9,
   "id": "1f893d9b",
   "metadata": {},
   "outputs": [
    {
     "name": "stdout",
     "output_type": "stream",
     "text": [
      "<class 'list'>\n"
     ]
    }
   ],
   "source": [
    "lit = list()\n",
    "print(type(lit))"
   ]
  },
  {
   "cell_type": "code",
   "execution_count": 12,
   "id": "27aa6d5d",
   "metadata": {},
   "outputs": [
    {
     "name": "stdout",
     "output_type": "stream",
     "text": [
      "1\n",
      "5\n"
     ]
    }
   ],
   "source": [
    "## Accessing Tuple Elements\n",
    "numbers = (1, 2, 3, 4, 5)\n",
    "print(numbers[0])\n",
    "print(numbers[-1])"
   ]
  },
  {
   "cell_type": "code",
   "execution_count": 18,
   "id": "e089e790",
   "metadata": {},
   "outputs": [
    {
     "data": {
      "text/plain": [
       "(1, 2, 3, 4)"
      ]
     },
     "execution_count": 18,
     "metadata": {},
     "output_type": "execute_result"
    }
   ],
   "source": [
    "numbers[0:4]\n"
   ]
  },
  {
   "cell_type": "code",
   "execution_count": 17,
   "id": "b8a93710",
   "metadata": {},
   "outputs": [
    {
     "data": {
      "text/plain": [
       "(1, 2, 3, 4, 5)"
      ]
     },
     "execution_count": 17,
     "metadata": {},
     "output_type": "execute_result"
    }
   ],
   "source": [
    "numbers[::]"
   ]
  },
  {
   "cell_type": "code",
   "execution_count": 19,
   "id": "20e1e6ce",
   "metadata": {},
   "outputs": [
    {
     "name": "stdout",
     "output_type": "stream",
     "text": [
      "(1, 'Hello', 3.14, True)\n"
     ]
    }
   ],
   "source": [
    "mixed_touple = (1, \"Hello\", 3.14, True)\n",
    "print(mixed_touple)"
   ]
  },
  {
   "cell_type": "code",
   "execution_count": 20,
   "id": "a3bc4331",
   "metadata": {},
   "outputs": [
    {
     "name": "stdout",
     "output_type": "stream",
     "text": [
      "(1, 2, 3, 4, 5, 1, 'Hello', 3.14, True)\n"
     ]
    }
   ],
   "source": [
    "## Touples Operations\n",
    "concatenation_touple = numbers + mixed_touple\n",
    "print(concatenation_touple)"
   ]
  },
  {
   "cell_type": "code",
   "execution_count": 21,
   "id": "bad5dbb8",
   "metadata": {},
   "outputs": [
    {
     "data": {
      "text/plain": [
       "(1, 'Hello', 3.14, True, 1, 'Hello', 3.14, True, 1, 'Hello', 3.14, True)"
      ]
     },
     "execution_count": 21,
     "metadata": {},
     "output_type": "execute_result"
    }
   ],
   "source": [
    "mixed_touple *3"
   ]
  },
  {
   "cell_type": "code",
   "execution_count": 23,
   "id": "0f826126",
   "metadata": {},
   "outputs": [
    {
     "ename": "TypeError",
     "evalue": "'tuple' object does not support item assignment",
     "output_type": "error",
     "traceback": [
      "\u001b[31m---------------------------------------------------------------------------\u001b[39m",
      "\u001b[31mTypeError\u001b[39m                                 Traceback (most recent call last)",
      "\u001b[36mCell\u001b[39m\u001b[36m \u001b[39m\u001b[32mIn[23]\u001b[39m\u001b[32m, line 2\u001b[39m\n\u001b[32m      1\u001b[39m \u001b[38;5;66;03m## Immutable nature of tuples\u001b[39;00m\n\u001b[32m----> \u001b[39m\u001b[32m2\u001b[39m \u001b[43mmixed_touple\u001b[49m\u001b[43m[\u001b[49m\u001b[32;43m0\u001b[39;49m\u001b[43m]\u001b[49m = \u001b[32m10\u001b[39m\n",
      "\u001b[31mTypeError\u001b[39m: 'tuple' object does not support item assignment"
     ]
    }
   ],
   "source": [
    "## Immutable nature of tuples\n",
    "mixed_touple[0] = 10"
   ]
  },
  {
   "cell_type": "code",
   "execution_count": null,
   "id": "774519a2",
   "metadata": {},
   "outputs": [
    {
     "name": "stdout",
     "output_type": "stream",
     "text": [
      "(1, 'hello', 3.14)\n"
     ]
    }
   ],
   "source": [
    "## Packing and unpacking tuple\n",
    "packed_touple = 1, \"hello\", 3.14\n",
    "print(packed_touple)\n"
   ]
  },
  {
   "cell_type": "code",
   "execution_count": 26,
   "id": "4f8c16b0",
   "metadata": {},
   "outputs": [
    {
     "name": "stdout",
     "output_type": "stream",
     "text": [
      "1\n",
      "hello\n",
      "3.14\n"
     ]
    }
   ],
   "source": [
    "## Unpacked tuple\n",
    "a,b,c = packed_touple\n",
    "print(a)\n",
    "print(b)\n",
    "print(c)    "
   ]
  },
  {
   "cell_type": "code",
   "execution_count": 27,
   "id": "c0d44322",
   "metadata": {},
   "outputs": [
    {
     "name": "stdout",
     "output_type": "stream",
     "text": [
      "1\n",
      "[2, 3, 4, 5]\n",
      "6\n"
     ]
    }
   ],
   "source": [
    "## Unpacking with *\n",
    "numbers = 1, 2, 3, 4, 5, 6\n",
    "first, *middle, last = numbers\n",
    "print(first)\n",
    "print(middle)\n",
    "print(last)\n"
   ]
  },
  {
   "cell_type": "code",
   "execution_count": 31,
   "id": "aac9e3e7",
   "metadata": {},
   "outputs": [
    {
     "data": {
      "text/plain": [
       "('hello', 8, 9)"
      ]
     },
     "execution_count": 31,
     "metadata": {},
     "output_type": "execute_result"
    }
   ],
   "source": [
    "## Nested touples\n",
    "lst = [[1, 2, 3], [4, 5, 6], (\"hello\", 8, 9)]\n",
    "lst[2][0:3]"
   ]
  },
  {
   "cell_type": "code",
   "execution_count": null,
   "id": "70e03a4d",
   "metadata": {},
   "outputs": [
    {
     "name": "stdout",
     "output_type": "stream",
     "text": [
      "('hello', 3, 5)\n"
     ]
    }
   ],
   "source": [
    "## Nested Tuples\n",
    "nested_touple = ((1, 2), (3, 4), (\"hello\", 3, 5))\n",
    "print(nested_touple[2])  # Accessing the inner tuple (3,"
   ]
  },
  {
   "cell_type": "code",
   "execution_count": 38,
   "id": "357a3710",
   "metadata": {},
   "outputs": [
    {
     "name": "stdout",
     "output_type": "stream",
     "text": [
      "1 2 \n",
      "3 4 \n",
      "hello 3 5 \n"
     ]
    }
   ],
   "source": [
    "## Iterating over nested tuples\n",
    "for sub_tuple in nested_touple:\n",
    "    for item in sub_tuple:\n",
    "        print(item, end=' ')\n",
    "    print()  # New line after each inner tuple"
   ]
  },
  {
   "cell_type": "code",
   "execution_count": null,
   "id": "ca3125f2",
   "metadata": {},
   "outputs": [],
   "source": []
  }
 ],
 "metadata": {
  "kernelspec": {
   "display_name": "Python 3",
   "language": "python",
   "name": "python3"
  },
  "language_info": {
   "codemirror_mode": {
    "name": "ipython",
    "version": 3
   },
   "file_extension": ".py",
   "mimetype": "text/x-python",
   "name": "python",
   "nbconvert_exporter": "python",
   "pygments_lexer": "ipython3",
   "version": "3.12.0"
  }
 },
 "nbformat": 4,
 "nbformat_minor": 5
}
