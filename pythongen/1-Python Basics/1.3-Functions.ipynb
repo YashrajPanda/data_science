{
 "cells": [
  {
   "cell_type": "markdown",
   "id": "46dcda80",
   "metadata": {},
   "source": [
    "Function\n",
    "\n",
    "\n",
    "# Why Function"
   ]
  },
  {
   "cell_type": "code",
   "execution_count": 1,
   "id": "a8fc305c",
   "metadata": {},
   "outputs": [
    {
     "name": "stdout",
     "output_type": "stream",
     "text": [
      "The number is even\n"
     ]
    }
   ],
   "source": [
    "num = 24\n",
    "if num%2==0:\n",
    "    print(\"The number is even\")"
   ]
  },
  {
   "cell_type": "code",
   "execution_count": 2,
   "id": "0e53279b",
   "metadata": {},
   "outputs": [],
   "source": [
    "def even_or_odd(num):\n",
    "    \"\"\"This function check if a number is even or odd.\"\"\"\n",
    "    if num % 2 == 0:\n",
    "        return \"The number is even\"\n",
    "    else:\n",
    "        return \"The number is odd\""
   ]
  },
  {
   "cell_type": "code",
   "execution_count": 5,
   "id": "20d6288d",
   "metadata": {},
   "outputs": [
    {
     "name": "stdout",
     "output_type": "stream",
     "text": [
      "The number is even\n"
     ]
    }
   ],
   "source": [
    "# Call the function\n",
    "result = even_or_odd(24)\n",
    "print(result)  # Output: The number is even"
   ]
  },
  {
   "cell_type": "code",
   "execution_count": 8,
   "id": "5333b078",
   "metadata": {},
   "outputs": [
    {
     "name": "stdout",
     "output_type": "stream",
     "text": [
      "Hello Yashraj Wellcome to Python Programming\n"
     ]
    }
   ],
   "source": [
    "# Default parameters\n",
    "\n",
    "def greet(name=\"guest\"):\n",
    "    print(F\"Hello {name} Wellcome to Python Programming\")\n",
    "greet(\"Yashraj\")    "
   ]
  },
  {
   "cell_type": "code",
   "execution_count": null,
   "id": "ee21d441",
   "metadata": {},
   "outputs": [],
   "source": []
  }
 ],
 "metadata": {
  "kernelspec": {
   "display_name": "Python 3",
   "language": "python",
   "name": "python3"
  },
  "language_info": {
   "codemirror_mode": {
    "name": "ipython",
    "version": 3
   },
   "file_extension": ".py",
   "mimetype": "text/x-python",
   "name": "python",
   "nbconvert_exporter": "python",
   "pygments_lexer": "ipython3",
   "version": "3.12.0"
  }
 },
 "nbformat": 4,
 "nbformat_minor": 5
}
